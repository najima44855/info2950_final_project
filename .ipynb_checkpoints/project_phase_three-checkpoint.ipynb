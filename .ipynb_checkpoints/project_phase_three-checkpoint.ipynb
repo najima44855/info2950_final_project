{
 "cells": [
  {
   "cell_type": "markdown",
   "metadata": {},
   "source": [
    "Sebastian Guo (sjg276) and Shungo Najima (sn685)"
   ]
  },
  {
   "cell_type": "markdown",
   "metadata": {},
   "source": [
    "**Preregistration of analyses**"
   ]
  },
  {
   "cell_type": "markdown",
   "metadata": {},
   "source": [
    "Our research questions from project phase 2: <br>\n",
    "What makes music popular for a certain country or different demographics (certain characteristics)? <br>\n",
    "How do music listening habits vary in different parts of the world?"
   ]
  },
  {
   "cell_type": "markdown",
   "metadata": {},
   "source": [
    "Our dataset: the rows consist of the top 50 playlists from countries around the world with information about the songs (danceability, tempo, time signature). "
   ]
  },
  {
   "cell_type": "markdown",
   "metadata": {},
   "source": [
    "<b> Question one: is there any correlation between countries' governing styles and music positivity? </b> <br>\n",
    "Some characteristics that define a \"positive\" song that we want to look at are its energy, danceability or upbeatness. To look at the relation of governing styles and song positivity, we plan on collecting data about countries' political systems (whether or not they are democracies, monarchies, or totalitarians).\n",
    "\n",
    "<br> To analyze different political systems for countries, we will create a histograms of music characteristics categorized by each political system. We will look at the mean and standard deviation of the song characteristics of each governing system and then compare these to see if certain governing systems tend to listen to more positive or negative music. We predict that countries with democracies will have higher means than more authoritarian governing systems when looking at our histograms. <br>\n",
    "\n",
    "<b> Question two: is there any correlation between countries' geography and music positivity? </b> <br>\n",
    "To analyze the relationship between geography and music positivity, we will use a k-means clustering algorithm on songs for each country clustered by continent. Since some countries have fewer songs than others, we plan to combine North America and South America into the Americas. We will use $4$ clusters to represent the geographical regions Americas, Europe, Asia, and Africa and to see if the music positivity of each continent has similarities or not. We can calculate the mean energy, danceability, and upbeatness of each country and then use those data points as input into our clustering algorithm. Using these clusters, we can see if certain continents have more positive music listening habits. We don't expect there to be extremely isolated clusters for each continent. Many countries adapt other countries musical tastes and preferences into their own so each continent won't have a discrete, different musical taste comapred to every other continent. Since we only have $2$ African countries (which happen to both be North African countries), we might include those in the Europe and Asia continents or cut them from this part of the analysis. <br>\n",
    "\n",
    "We think investigating political and geographical relation with music preferences will help answer our research questions because both of these factors can separate different countries from others (physically and idealistically) so any differences in music taste by political or geographical categories could provide insight into what makes music popular for different populations."
   ]
  },
  {
   "cell_type": "code",
   "execution_count": null,
   "metadata": {},
   "outputs": [],
   "source": []
  }
 ],
 "metadata": {
  "kernelspec": {
   "display_name": "Python 3",
   "language": "python",
   "name": "python3"
  },
  "language_info": {
   "codemirror_mode": {
    "name": "ipython",
    "version": 3
   },
   "file_extension": ".py",
   "mimetype": "text/x-python",
   "name": "python",
   "nbconvert_exporter": "python",
   "pygments_lexer": "ipython3",
   "version": "3.8.5"
  }
 },
 "nbformat": 4,
 "nbformat_minor": 4
}
